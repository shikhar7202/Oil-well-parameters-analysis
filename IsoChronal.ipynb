{
  "cells": [
    {
      "cell_type": "markdown",
      "metadata": {
        "id": "view-in-github",
        "colab_type": "text"
      },
      "source": [
        "<a href=\"https://colab.research.google.com/github/Anmoltnt/Oil-well-parameters-analysis/blob/main/IsoChronal.ipynb\" target=\"_parent\"><img src=\"https://colab.research.google.com/assets/colab-badge.svg\" alt=\"Open In Colab\"/></a>"
      ]
    },
    {
      "cell_type": "markdown",
      "metadata": {
        "id": "2RfwRQgJqJsw"
      },
      "source": [
        "# Gas Well Test Analysis : Isochronal Test\n",
        "\n",
        "> Divyanshu Vyas | Oil and Gas Data Science/Machine Learning"
      ]
    },
    {
      "cell_type": "code",
      "execution_count": null,
      "metadata": {
        "id": "3cO5l_shqJs0"
      },
      "outputs": [],
      "source": [
        "import numpy as np\n",
        "import pandas as pd\n",
        "import seaborn as sns\n",
        "import matplotlib.pyplot as plt"
      ]
    },
    {
      "cell_type": "code",
      "execution_count": null,
      "metadata": {
        "id": "pHk2BmgnqJs1"
      },
      "outputs": [],
      "source": [
        "t = [48,12,15,12,17,12,18,12,72,100]\n",
        "\n",
        "pw = [1952,1761,1952,1694,1952,1510,1952,1320,1151,1952]\n",
        "\n",
        "q = [0,2.6,0,3.3,0,5.0,0,6.3,6.0,0]\n",
        "\n",
        "labels = ['S0','F1','S1','F2','S2','F3','S3','F4','EF','S_f']"
      ]
    },
    {
      "cell_type": "code",
      "execution_count": null,
      "metadata": {
        "id": "QMLfEZNmqJs1",
        "outputId": "88a2eb01-ad05-4073-fee7-a1eb479965da"
      },
      "outputs": [
        {
          "data": {
            "text/plain": [
              "(10, 10, 10, 10)"
            ]
          },
          "execution_count": 6,
          "metadata": {},
          "output_type": "execute_result"
        }
      ],
      "source": [
        "len(t),len(pw),len(q),len(labels)"
      ]
    },
    {
      "cell_type": "code",
      "execution_count": null,
      "metadata": {
        "id": "1aOqEHRhqJs2"
      },
      "outputs": [],
      "source": [
        "df = pd.DataFrame({'Test':labels,'T(hrs)':t,'Pw':pw,'Q(MMscf/d)':q})"
      ]
    },
    {
      "cell_type": "code",
      "execution_count": null,
      "metadata": {
        "id": "BL32nB0UqJs2",
        "outputId": "22945d05-fca2-4ad9-ae25-f3f9ffc2acfb"
      },
      "outputs": [
        {
          "data": {
            "text/html": [
              "<div>\n",
              "<style scoped>\n",
              "    .dataframe tbody tr th:only-of-type {\n",
              "        vertical-align: middle;\n",
              "    }\n",
              "\n",
              "    .dataframe tbody tr th {\n",
              "        vertical-align: top;\n",
              "    }\n",
              "\n",
              "    .dataframe thead th {\n",
              "        text-align: right;\n",
              "    }\n",
              "</style>\n",
              "<table border=\"1\" class=\"dataframe\">\n",
              "  <thead>\n",
              "    <tr style=\"text-align: right;\">\n",
              "      <th></th>\n",
              "      <th>Test</th>\n",
              "      <th>T(hrs)</th>\n",
              "      <th>Pw</th>\n",
              "      <th>Q(MMscf/d)</th>\n",
              "    </tr>\n",
              "  </thead>\n",
              "  <tbody>\n",
              "    <tr>\n",
              "      <th>0</th>\n",
              "      <td>S0</td>\n",
              "      <td>48</td>\n",
              "      <td>1952</td>\n",
              "      <td>0.0</td>\n",
              "    </tr>\n",
              "    <tr>\n",
              "      <th>1</th>\n",
              "      <td>F1</td>\n",
              "      <td>12</td>\n",
              "      <td>1761</td>\n",
              "      <td>2.6</td>\n",
              "    </tr>\n",
              "    <tr>\n",
              "      <th>2</th>\n",
              "      <td>S1</td>\n",
              "      <td>15</td>\n",
              "      <td>1952</td>\n",
              "      <td>0.0</td>\n",
              "    </tr>\n",
              "    <tr>\n",
              "      <th>3</th>\n",
              "      <td>F2</td>\n",
              "      <td>12</td>\n",
              "      <td>1694</td>\n",
              "      <td>3.3</td>\n",
              "    </tr>\n",
              "    <tr>\n",
              "      <th>4</th>\n",
              "      <td>S2</td>\n",
              "      <td>17</td>\n",
              "      <td>1952</td>\n",
              "      <td>0.0</td>\n",
              "    </tr>\n",
              "    <tr>\n",
              "      <th>5</th>\n",
              "      <td>F3</td>\n",
              "      <td>12</td>\n",
              "      <td>1510</td>\n",
              "      <td>5.0</td>\n",
              "    </tr>\n",
              "    <tr>\n",
              "      <th>6</th>\n",
              "      <td>S3</td>\n",
              "      <td>18</td>\n",
              "      <td>1952</td>\n",
              "      <td>0.0</td>\n",
              "    </tr>\n",
              "    <tr>\n",
              "      <th>7</th>\n",
              "      <td>F4</td>\n",
              "      <td>12</td>\n",
              "      <td>1320</td>\n",
              "      <td>6.3</td>\n",
              "    </tr>\n",
              "    <tr>\n",
              "      <th>8</th>\n",
              "      <td>EF</td>\n",
              "      <td>72</td>\n",
              "      <td>1151</td>\n",
              "      <td>6.0</td>\n",
              "    </tr>\n",
              "    <tr>\n",
              "      <th>9</th>\n",
              "      <td>S_f</td>\n",
              "      <td>100</td>\n",
              "      <td>1952</td>\n",
              "      <td>0.0</td>\n",
              "    </tr>\n",
              "  </tbody>\n",
              "</table>\n",
              "</div>"
            ],
            "text/plain": [
              "  Test  T(hrs)    Pw  Q(MMscf/d)\n",
              "0   S0      48  1952         0.0\n",
              "1   F1      12  1761         2.6\n",
              "2   S1      15  1952         0.0\n",
              "3   F2      12  1694         3.3\n",
              "4   S2      17  1952         0.0\n",
              "5   F3      12  1510         5.0\n",
              "6   S3      18  1952         0.0\n",
              "7   F4      12  1320         6.3\n",
              "8   EF      72  1151         6.0\n",
              "9  S_f     100  1952         0.0"
            ]
          },
          "execution_count": 9,
          "metadata": {},
          "output_type": "execute_result"
        }
      ],
      "source": [
        "df"
      ]
    },
    {
      "cell_type": "code",
      "execution_count": null,
      "metadata": {
        "id": "noDzKTk3qJs3"
      },
      "outputs": [],
      "source": [
        "pbar = 1952 #psia"
      ]
    },
    {
      "cell_type": "code",
      "execution_count": null,
      "metadata": {
        "id": "4dRSHtp5qJs3"
      },
      "outputs": [],
      "source": [
        "df['Pbar2 - Pwf2'] = pbar**2 - df['Pw']**2"
      ]
    },
    {
      "cell_type": "code",
      "execution_count": null,
      "metadata": {
        "id": "toc9x5h4qJs3",
        "outputId": "15962e69-8ac0-4e34-df3e-48f6c9d0c9d5"
      },
      "outputs": [
        {
          "data": {
            "text/html": [
              "<div>\n",
              "<style scoped>\n",
              "    .dataframe tbody tr th:only-of-type {\n",
              "        vertical-align: middle;\n",
              "    }\n",
              "\n",
              "    .dataframe tbody tr th {\n",
              "        vertical-align: top;\n",
              "    }\n",
              "\n",
              "    .dataframe thead th {\n",
              "        text-align: right;\n",
              "    }\n",
              "</style>\n",
              "<table border=\"1\" class=\"dataframe\">\n",
              "  <thead>\n",
              "    <tr style=\"text-align: right;\">\n",
              "      <th></th>\n",
              "      <th>Test</th>\n",
              "      <th>T(hrs)</th>\n",
              "      <th>Pw</th>\n",
              "      <th>Q(MMscf/d)</th>\n",
              "      <th>Pbar2 - Pwf2</th>\n",
              "    </tr>\n",
              "  </thead>\n",
              "  <tbody>\n",
              "    <tr>\n",
              "      <th>0</th>\n",
              "      <td>S0</td>\n",
              "      <td>48</td>\n",
              "      <td>1952</td>\n",
              "      <td>0.0</td>\n",
              "      <td>0</td>\n",
              "    </tr>\n",
              "    <tr>\n",
              "      <th>1</th>\n",
              "      <td>F1</td>\n",
              "      <td>12</td>\n",
              "      <td>1761</td>\n",
              "      <td>2.6</td>\n",
              "      <td>709183</td>\n",
              "    </tr>\n",
              "    <tr>\n",
              "      <th>2</th>\n",
              "      <td>S1</td>\n",
              "      <td>15</td>\n",
              "      <td>1952</td>\n",
              "      <td>0.0</td>\n",
              "      <td>0</td>\n",
              "    </tr>\n",
              "    <tr>\n",
              "      <th>3</th>\n",
              "      <td>F2</td>\n",
              "      <td>12</td>\n",
              "      <td>1694</td>\n",
              "      <td>3.3</td>\n",
              "      <td>940668</td>\n",
              "    </tr>\n",
              "    <tr>\n",
              "      <th>4</th>\n",
              "      <td>S2</td>\n",
              "      <td>17</td>\n",
              "      <td>1952</td>\n",
              "      <td>0.0</td>\n",
              "      <td>0</td>\n",
              "    </tr>\n",
              "    <tr>\n",
              "      <th>5</th>\n",
              "      <td>F3</td>\n",
              "      <td>12</td>\n",
              "      <td>1510</td>\n",
              "      <td>5.0</td>\n",
              "      <td>1530204</td>\n",
              "    </tr>\n",
              "    <tr>\n",
              "      <th>6</th>\n",
              "      <td>S3</td>\n",
              "      <td>18</td>\n",
              "      <td>1952</td>\n",
              "      <td>0.0</td>\n",
              "      <td>0</td>\n",
              "    </tr>\n",
              "    <tr>\n",
              "      <th>7</th>\n",
              "      <td>F4</td>\n",
              "      <td>12</td>\n",
              "      <td>1320</td>\n",
              "      <td>6.3</td>\n",
              "      <td>2067904</td>\n",
              "    </tr>\n",
              "    <tr>\n",
              "      <th>8</th>\n",
              "      <td>EF</td>\n",
              "      <td>72</td>\n",
              "      <td>1151</td>\n",
              "      <td>6.0</td>\n",
              "      <td>2485503</td>\n",
              "    </tr>\n",
              "    <tr>\n",
              "      <th>9</th>\n",
              "      <td>S_f</td>\n",
              "      <td>100</td>\n",
              "      <td>1952</td>\n",
              "      <td>0.0</td>\n",
              "      <td>0</td>\n",
              "    </tr>\n",
              "  </tbody>\n",
              "</table>\n",
              "</div>"
            ],
            "text/plain": [
              "  Test  T(hrs)    Pw  Q(MMscf/d)  Pbar2 - Pwf2\n",
              "0   S0      48  1952         0.0             0\n",
              "1   F1      12  1761         2.6        709183\n",
              "2   S1      15  1952         0.0             0\n",
              "3   F2      12  1694         3.3        940668\n",
              "4   S2      17  1952         0.0             0\n",
              "5   F3      12  1510         5.0       1530204\n",
              "6   S3      18  1952         0.0             0\n",
              "7   F4      12  1320         6.3       2067904\n",
              "8   EF      72  1151         6.0       2485503\n",
              "9  S_f     100  1952         0.0             0"
            ]
          },
          "execution_count": 14,
          "metadata": {},
          "output_type": "execute_result"
        }
      ],
      "source": [
        "df"
      ]
    },
    {
      "cell_type": "code",
      "execution_count": null,
      "metadata": {
        "id": "EhSjuGIGqJs4",
        "outputId": "18647605-d648-410d-fd58-38bebda39054"
      },
      "outputs": [
        {
          "data": {
            "text/plain": [
              "3810087.91"
            ]
          },
          "execution_count": 16,
          "metadata": {},
          "output_type": "execute_result"
        }
      ],
      "source": [
        "#AOF conditions\n",
        "delP2_aof = pbar**2 - 14.7**2\n",
        "\n",
        "delP2_aof"
      ]
    },
    {
      "cell_type": "code",
      "execution_count": null,
      "metadata": {
        "id": "SwSEG3u4qJs4"
      },
      "outputs": [],
      "source": [
        "df_isotest = df[df['Q(MMscf/d)']>0]"
      ]
    },
    {
      "cell_type": "code",
      "execution_count": null,
      "metadata": {
        "id": "4YyxP6ZpqJs4",
        "outputId": "01435cc2-de97-4256-b7bf-21bdd5e4efbd"
      },
      "outputs": [
        {
          "data": {
            "text/html": [
              "<div>\n",
              "<style scoped>\n",
              "    .dataframe tbody tr th:only-of-type {\n",
              "        vertical-align: middle;\n",
              "    }\n",
              "\n",
              "    .dataframe tbody tr th {\n",
              "        vertical-align: top;\n",
              "    }\n",
              "\n",
              "    .dataframe thead th {\n",
              "        text-align: right;\n",
              "    }\n",
              "</style>\n",
              "<table border=\"1\" class=\"dataframe\">\n",
              "  <thead>\n",
              "    <tr style=\"text-align: right;\">\n",
              "      <th></th>\n",
              "      <th>Test</th>\n",
              "      <th>T(hrs)</th>\n",
              "      <th>Pw</th>\n",
              "      <th>Q(MMscf/d)</th>\n",
              "      <th>Pbar2 - Pwf2</th>\n",
              "    </tr>\n",
              "  </thead>\n",
              "  <tbody>\n",
              "    <tr>\n",
              "      <th>1</th>\n",
              "      <td>F1</td>\n",
              "      <td>12</td>\n",
              "      <td>1761</td>\n",
              "      <td>2.6</td>\n",
              "      <td>709183</td>\n",
              "    </tr>\n",
              "    <tr>\n",
              "      <th>3</th>\n",
              "      <td>F2</td>\n",
              "      <td>12</td>\n",
              "      <td>1694</td>\n",
              "      <td>3.3</td>\n",
              "      <td>940668</td>\n",
              "    </tr>\n",
              "    <tr>\n",
              "      <th>5</th>\n",
              "      <td>F3</td>\n",
              "      <td>12</td>\n",
              "      <td>1510</td>\n",
              "      <td>5.0</td>\n",
              "      <td>1530204</td>\n",
              "    </tr>\n",
              "    <tr>\n",
              "      <th>7</th>\n",
              "      <td>F4</td>\n",
              "      <td>12</td>\n",
              "      <td>1320</td>\n",
              "      <td>6.3</td>\n",
              "      <td>2067904</td>\n",
              "    </tr>\n",
              "    <tr>\n",
              "      <th>8</th>\n",
              "      <td>EF</td>\n",
              "      <td>72</td>\n",
              "      <td>1151</td>\n",
              "      <td>6.0</td>\n",
              "      <td>2485503</td>\n",
              "    </tr>\n",
              "  </tbody>\n",
              "</table>\n",
              "</div>"
            ],
            "text/plain": [
              "  Test  T(hrs)    Pw  Q(MMscf/d)  Pbar2 - Pwf2\n",
              "1   F1      12  1761         2.6        709183\n",
              "3   F2      12  1694         3.3        940668\n",
              "5   F3      12  1510         5.0       1530204\n",
              "7   F4      12  1320         6.3       2067904\n",
              "8   EF      72  1151         6.0       2485503"
            ]
          },
          "execution_count": 71,
          "metadata": {},
          "output_type": "execute_result"
        }
      ],
      "source": [
        "df_isotest"
      ]
    },
    {
      "cell_type": "code",
      "execution_count": null,
      "metadata": {
        "id": "vjISckTbqJs4"
      },
      "outputs": [],
      "source": [
        "#Note- The Last test row is for Extended flow.\n",
        "#It will have a seperate line."
      ]
    },
    {
      "cell_type": "code",
      "execution_count": null,
      "metadata": {
        "id": "u4rWFw9_qJs5",
        "outputId": "7e07c2a3-9b0a-4fbc-9f8f-4c453434eb70"
      },
      "outputs": [
        {
          "data": {
            "text/plain": [
              "<matplotlib.axes._subplots.AxesSubplot at 0x294b9de1d90>"
            ]
          },
          "execution_count": 73,
          "metadata": {},
          "output_type": "execute_result"
        },
        {
          "data": {
            "image/png": "[encoded data removed]",
            "text/plain": [
              "<Figure size 432x288 with 1 Axes>"
            ]
          },
          "metadata": {
            "needs_background": "light"
          },
          "output_type": "display_data"
        }
      ],
      "source": [
        "sns.regplot(np.log(df_isotest['Q(MMscf/d)'][:-1]),np.log(df_isotest['Pbar2 - Pwf2'][:-1]))"
      ]
    },
    {
      "cell_type": "code",
      "execution_count": null,
      "metadata": {
        "id": "VkDHHCq0qJs5"
      },
      "outputs": [],
      "source": [
        "#Let's model this Equation.\n",
        "iso = np.polyfit(np.log(df_isotest['Q(MMscf/d)'][:-1]),np.log(df_isotest['Pbar2 - Pwf2'][:-1]),deg=1)"
      ]
    },
    {
      "cell_type": "code",
      "execution_count": null,
      "metadata": {
        "id": "Bhh6ajB0qJs5",
        "outputId": "ecf709f3-8785-463c-e6fc-3ac91386340e"
      },
      "outputs": [
        {
          "data": {
            "text/plain": [
              "array([ 1.20218473, 12.31940829])"
            ]
          },
          "execution_count": 75,
          "metadata": {},
          "output_type": "execute_result"
        }
      ],
      "source": [
        "iso"
      ]
    },
    {
      "cell_type": "markdown",
      "metadata": {
        "id": "Y-pdGaYCqJs5"
      },
      "source": [
        "### $ log_e (P_{avg}^2 - P_{wf}^{2}) = 1.202*log_e(qg) + 12.31 $"
      ]
    },
    {
      "cell_type": "code",
      "execution_count": null,
      "metadata": {
        "id": "HV9M2BufqJs5"
      },
      "outputs": [],
      "source": [
        "df_isotest.reset_index(inplace=True,drop=True)"
      ]
    },
    {
      "cell_type": "code",
      "execution_count": null,
      "metadata": {
        "id": "5YUyGp4IqJs5",
        "outputId": "9db8e981-f922-49f2-b7c7-66a41f4fb170"
      },
      "outputs": [
        {
          "data": {
            "text/html": [
              "<div>\n",
              "<style scoped>\n",
              "    .dataframe tbody tr th:only-of-type {\n",
              "        vertical-align: middle;\n",
              "    }\n",
              "\n",
              "    .dataframe tbody tr th {\n",
              "        vertical-align: top;\n",
              "    }\n",
              "\n",
              "    .dataframe thead th {\n",
              "        text-align: right;\n",
              "    }\n",
              "</style>\n",
              "<table border=\"1\" class=\"dataframe\">\n",
              "  <thead>\n",
              "    <tr style=\"text-align: right;\">\n",
              "      <th></th>\n",
              "      <th>Test</th>\n",
              "      <th>T(hrs)</th>\n",
              "      <th>Pw</th>\n",
              "      <th>Q(MMscf/d)</th>\n",
              "      <th>Pbar2 - Pwf2</th>\n",
              "    </tr>\n",
              "  </thead>\n",
              "  <tbody>\n",
              "    <tr>\n",
              "      <th>0</th>\n",
              "      <td>F1</td>\n",
              "      <td>12</td>\n",
              "      <td>1761</td>\n",
              "      <td>2.6</td>\n",
              "      <td>709183</td>\n",
              "    </tr>\n",
              "    <tr>\n",
              "      <th>1</th>\n",
              "      <td>F2</td>\n",
              "      <td>12</td>\n",
              "      <td>1694</td>\n",
              "      <td>3.3</td>\n",
              "      <td>940668</td>\n",
              "    </tr>\n",
              "    <tr>\n",
              "      <th>2</th>\n",
              "      <td>F3</td>\n",
              "      <td>12</td>\n",
              "      <td>1510</td>\n",
              "      <td>5.0</td>\n",
              "      <td>1530204</td>\n",
              "    </tr>\n",
              "    <tr>\n",
              "      <th>3</th>\n",
              "      <td>F4</td>\n",
              "      <td>12</td>\n",
              "      <td>1320</td>\n",
              "      <td>6.3</td>\n",
              "      <td>2067904</td>\n",
              "    </tr>\n",
              "    <tr>\n",
              "      <th>4</th>\n",
              "      <td>EF</td>\n",
              "      <td>72</td>\n",
              "      <td>1151</td>\n",
              "      <td>6.0</td>\n",
              "      <td>2485503</td>\n",
              "    </tr>\n",
              "  </tbody>\n",
              "</table>\n",
              "</div>"
            ],
            "text/plain": [
              "  Test  T(hrs)    Pw  Q(MMscf/d)  Pbar2 - Pwf2\n",
              "0   F1      12  1761         2.6        709183\n",
              "1   F2      12  1694         3.3        940668\n",
              "2   F3      12  1510         5.0       1530204\n",
              "3   F4      12  1320         6.3       2067904\n",
              "4   EF      72  1151         6.0       2485503"
            ]
          },
          "execution_count": 78,
          "metadata": {},
          "output_type": "execute_result"
        }
      ],
      "source": [
        "df_isotest"
      ]
    },
    {
      "cell_type": "code",
      "execution_count": null,
      "metadata": {
        "id": "aDTtTFaaqJs5",
        "outputId": "bd371b85-9d2d-465c-ee57-a64d24d30603"
      },
      "outputs": [
        {
          "data": {
            "text/plain": [
              "0.831946755407654"
            ]
          },
          "execution_count": 80,
          "metadata": {},
          "output_type": "execute_result"
        }
      ],
      "source": [
        "iso_q = df_isotest['Q(MMscf/d)'][:-1]\n",
        "iso_p2 = df_isotest['Pbar2 - Pwf2'][:-1]\n",
        "\n",
        "#1/n = 1.202\n",
        "#n = 1/1.202\n",
        "n = 1/1.202\n",
        "n"
      ]
    },
    {
      "cell_type": "markdown",
      "metadata": {
        "id": "EKogRQI0qJs5"
      },
      "source": [
        "### Empirical Rule\n",
        "\n",
        "$ Q = C*(Pbar^2 - P_w^2)^n $\n",
        "\n",
        "$ 1/n * log(Q) + log(1/C) = log(Pbar^2 - P_w^2) $"
      ]
    },
    {
      "cell_type": "code",
      "execution_count": null,
      "metadata": {
        "id": "ObyJM059qJs6",
        "outputId": "9d54b51f-6fe4-457a-c812-d21fba5a423d"
      },
      "outputs": [
        {
          "data": {
            "text/plain": [
              "12.572290729504617"
            ]
          },
          "execution_count": 81,
          "metadata": {},
          "output_type": "execute_result"
        }
      ],
      "source": [
        "#Therefore Stabilized Model becomes -\n",
        "logc_s = np.log(2485503) - (1.202)*np.log(6)\n",
        "\n",
        "logc_s"
      ]
    },
    {
      "cell_type": "markdown",
      "metadata": {
        "id": "TOBhUGJXqJs6"
      },
      "source": [
        "## Stabilized (Empirical) Model for Isochronal test:-\n",
        "\n",
        "$ log(Pbar^2 - P_w^2) = 1.202*log(Q_g) + 12.5723 $"
      ]
    },
    {
      "cell_type": "code",
      "execution_count": null,
      "metadata": {
        "id": "ZM7nNsk5qJs6"
      },
      "outputs": [],
      "source": [
        "def stab_iso(q):\n",
        "\n",
        "    logp2 = 1.202*np.log(q) + 12.5723\n",
        "\n",
        "    return np.exp(logp2)\n",
        "\n",
        "\n",
        "\n",
        "def stab_q(pw):\n",
        "\n",
        "    logq = (np.log(pbar**2 - pw**2) - 12.5723)/1.202\n",
        "\n",
        "    return np.exp(logq)\n",
        "\n",
        "\n",
        "aof_stab = stab_q(14.7)"
      ]
    },
    {
      "cell_type": "code",
      "execution_count": null,
      "metadata": {
        "id": "hrZcfMsKqJs6",
        "outputId": "7119d270-cb09-490b-c2c8-dbd970978964"
      },
      "outputs": [
        {
          "name": "stderr",
          "output_type": "stream",
          "text": [
            "<ipython-input-83-60681622bce7>:1: SettingWithCopyWarning: \n",
            "A value is trying to be set on a copy of a slice from a DataFrame.\n",
            "Try using .loc[row_indexer,col_indexer] = value instead\n",
            "\n",
            "See the caveats in the documentation: https://pandas.pydata.org/pandas-docs/stable/user_guide/indexing.html#returning-a-view-versus-a-copy\n",
            "  df_isotest['Stablized : P2'] = df_isotest['Q(MMscf/d)'].apply(stab_iso)\n"
          ]
        }
      ],
      "source": [
        "df_isotest['Stablized : P2'] = df_isotest['Q(MMscf/d)'].apply(stab_iso)"
      ]
    },
    {
      "cell_type": "code",
      "execution_count": null,
      "metadata": {
        "id": "4XkAbRl4qJs6",
        "outputId": "8455d7b2-4885-4496-a5f0-df6a0f8d0207"
      },
      "outputs": [
        {
          "data": {
            "text/plain": [
              "Text(0, 0.5, '$P_{av}^2 - Pw^2 (Psi^2) - Log Scaled$')"
            ]
          },
          "execution_count": 118,
          "metadata": {},
          "output_type": "execute_result"
        },
        {
          "data": {
            "image/png": "[encoded data removed]",
            "text/plain": [
              "<Figure size 1200x825 with 1 Axes>"
            ]
          },
          "metadata": {},
          "output_type": "display_data"
        }
      ],
      "source": [
        "plt.figure(dpi=150);\n",
        "plt.style.use('seaborn')\n",
        "plt.grid()\n",
        "\n",
        "\n",
        "\n",
        "#Isochronal Test Points Model (Used to find slope)\n",
        "plt.scatter(np.log(df_isotest['Q(MMscf/d)'][:-1]),np.log(df_isotest['Pbar2 - Pwf2'][:-1]))\n",
        "plt.plot(np.log(df_isotest['Q(MMscf/d)'][:-1]),np.log(df_isotest['Pbar2 - Pwf2'][:-1]),label='Isochronal Test Points')\n",
        "\n",
        "x = np.log(df_isotest['Q(MMscf/d)'][:-1])\n",
        "y = 1.202*x + 12.31\n",
        "# plt.plot(x,y)\n",
        "\n",
        "\n",
        "xf = np.log(6)\n",
        "yf = np.log(2485503)\n",
        "\n",
        "plt.scatter(xf,yf)\n",
        "\n",
        "\n",
        "plt.plot(np.log(df_isotest['Q(MMscf/d)']),np.log(df_isotest['Stablized : P2']),label='Stabilized Model')\n",
        "\n",
        "\n",
        "# plt.axvline(x=np.log(aof_stab), label='AOF (log-Scaled)')\n",
        "\n",
        "plt.legend()\n",
        "plt.grid()\n",
        "plt.xlabel('Qg(MMscf/d)-Log Scaled')\n",
        "plt.ylabel('$P_{av}^2 - Pw^2 (Psi^2) - Log Scaled$')\n",
        "\n",
        "\n",
        "\n",
        "\n",
        "\n"
      ]
    },
    {
      "cell_type": "code",
      "execution_count": null,
      "metadata": {
        "id": "CeiL_Qc9qJs6",
        "outputId": "ec73cbe6-f10e-4f9a-cbf0-00952add302a"
      },
      "outputs": [
        {
          "data": {
            "text/html": [
              "<div>\n",
              "<style scoped>\n",
              "    .dataframe tbody tr th:only-of-type {\n",
              "        vertical-align: middle;\n",
              "    }\n",
              "\n",
              "    .dataframe tbody tr th {\n",
              "        vertical-align: top;\n",
              "    }\n",
              "\n",
              "    .dataframe thead th {\n",
              "        text-align: right;\n",
              "    }\n",
              "</style>\n",
              "<table border=\"1\" class=\"dataframe\">\n",
              "  <thead>\n",
              "    <tr style=\"text-align: right;\">\n",
              "      <th></th>\n",
              "      <th>Test</th>\n",
              "      <th>T(hrs)</th>\n",
              "      <th>Pw</th>\n",
              "      <th>Q(MMscf/d)</th>\n",
              "      <th>Pbar2 - Pwf2</th>\n",
              "      <th>Stablized : P2</th>\n",
              "    </tr>\n",
              "  </thead>\n",
              "  <tbody>\n",
              "    <tr>\n",
              "      <th>0</th>\n",
              "      <td>F1</td>\n",
              "      <td>12</td>\n",
              "      <td>1761</td>\n",
              "      <td>2.6</td>\n",
              "      <td>709183</td>\n",
              "      <td>9.096587e+05</td>\n",
              "    </tr>\n",
              "    <tr>\n",
              "      <th>1</th>\n",
              "      <td>F2</td>\n",
              "      <td>12</td>\n",
              "      <td>1694</td>\n",
              "      <td>3.3</td>\n",
              "      <td>940668</td>\n",
              "      <td>1.211530e+06</td>\n",
              "    </tr>\n",
              "    <tr>\n",
              "      <th>2</th>\n",
              "      <td>F3</td>\n",
              "      <td>12</td>\n",
              "      <td>1510</td>\n",
              "      <td>5.0</td>\n",
              "      <td>1530204</td>\n",
              "      <td>1.996377e+06</td>\n",
              "    </tr>\n",
              "    <tr>\n",
              "      <th>3</th>\n",
              "      <td>F4</td>\n",
              "      <td>12</td>\n",
              "      <td>1320</td>\n",
              "      <td>6.3</td>\n",
              "      <td>2067904</td>\n",
              "      <td>2.635651e+06</td>\n",
              "    </tr>\n",
              "    <tr>\n",
              "      <th>4</th>\n",
              "      <td>EF</td>\n",
              "      <td>72</td>\n",
              "      <td>1151</td>\n",
              "      <td>6.0</td>\n",
              "      <td>2485503</td>\n",
              "      <td>2.485526e+06</td>\n",
              "    </tr>\n",
              "  </tbody>\n",
              "</table>\n",
              "</div>"
            ],
            "text/plain": [
              "  Test  T(hrs)    Pw  Q(MMscf/d)  Pbar2 - Pwf2  Stablized : P2\n",
              "0   F1      12  1761         2.6        709183    9.096587e+05\n",
              "1   F2      12  1694         3.3        940668    1.211530e+06\n",
              "2   F3      12  1510         5.0       1530204    1.996377e+06\n",
              "3   F4      12  1320         6.3       2067904    2.635651e+06\n",
              "4   EF      72  1151         6.0       2485503    2.485526e+06"
            ]
          },
          "execution_count": 133,
          "metadata": {},
          "output_type": "execute_result"
        }
      ],
      "source": [
        "df_isotest"
      ]
    },
    {
      "cell_type": "code",
      "execution_count": null,
      "metadata": {
        "id": "jipK01QgqJs6"
      },
      "outputs": [],
      "source": [
        "new = {'Test':'AOF',\n",
        "      'T(hrs)':'-',\n",
        "      'Pw':14.7,\n",
        "      'Q(MMscf/d)':aof_stab,\n",
        "      'Pbar2 - Pwf2':pbar**2-14.7**2,\n",
        "      'Stablized : P2':stab_iso(aof_stab)}"
      ]
    },
    {
      "cell_type": "code",
      "execution_count": null,
      "metadata": {
        "id": "sLfKUMN_qJs6",
        "outputId": "65dbe8a6-f5bd-409e-e55a-e65d9ebf0332"
      },
      "outputs": [
        {
          "data": {
            "text/html": [
              "<div>\n",
              "<style scoped>\n",
              "    .dataframe tbody tr th:only-of-type {\n",
              "        vertical-align: middle;\n",
              "    }\n",
              "\n",
              "    .dataframe tbody tr th {\n",
              "        vertical-align: top;\n",
              "    }\n",
              "\n",
              "    .dataframe thead th {\n",
              "        text-align: right;\n",
              "    }\n",
              "</style>\n",
              "<table border=\"1\" class=\"dataframe\">\n",
              "  <thead>\n",
              "    <tr style=\"text-align: right;\">\n",
              "      <th></th>\n",
              "      <th>Test</th>\n",
              "      <th>T(hrs)</th>\n",
              "      <th>Pw</th>\n",
              "      <th>Q(MMscf/d)</th>\n",
              "      <th>Pbar2 - Pwf2</th>\n",
              "      <th>Stablized : P2</th>\n",
              "    </tr>\n",
              "  </thead>\n",
              "  <tbody>\n",
              "    <tr>\n",
              "      <th>0</th>\n",
              "      <td>F1</td>\n",
              "      <td>12</td>\n",
              "      <td>1761.0</td>\n",
              "      <td>2.600000</td>\n",
              "      <td>709183.00</td>\n",
              "      <td>9.096587e+05</td>\n",
              "    </tr>\n",
              "    <tr>\n",
              "      <th>1</th>\n",
              "      <td>F2</td>\n",
              "      <td>12</td>\n",
              "      <td>1694.0</td>\n",
              "      <td>3.300000</td>\n",
              "      <td>940668.00</td>\n",
              "      <td>1.211530e+06</td>\n",
              "    </tr>\n",
              "    <tr>\n",
              "      <th>2</th>\n",
              "      <td>F3</td>\n",
              "      <td>12</td>\n",
              "      <td>1510.0</td>\n",
              "      <td>5.000000</td>\n",
              "      <td>1530204.00</td>\n",
              "      <td>1.996377e+06</td>\n",
              "    </tr>\n",
              "    <tr>\n",
              "      <th>3</th>\n",
              "      <td>F4</td>\n",
              "      <td>12</td>\n",
              "      <td>1320.0</td>\n",
              "      <td>6.300000</td>\n",
              "      <td>2067904.00</td>\n",
              "      <td>2.635651e+06</td>\n",
              "    </tr>\n",
              "    <tr>\n",
              "      <th>4</th>\n",
              "      <td>EF</td>\n",
              "      <td>72</td>\n",
              "      <td>1151.0</td>\n",
              "      <td>6.000000</td>\n",
              "      <td>2485503.00</td>\n",
              "      <td>2.485526e+06</td>\n",
              "    </tr>\n",
              "    <tr>\n",
              "      <th>5</th>\n",
              "      <td>AOF</td>\n",
              "      <td>-</td>\n",
              "      <td>14.7</td>\n",
              "      <td>8.560345</td>\n",
              "      <td>3810087.91</td>\n",
              "      <td>3.810088e+06</td>\n",
              "    </tr>\n",
              "  </tbody>\n",
              "</table>\n",
              "</div>"
            ],
            "text/plain": [
              "  Test T(hrs)      Pw  Q(MMscf/d)  Pbar2 - Pwf2  Stablized : P2\n",
              "0   F1     12  1761.0    2.600000     709183.00    9.096587e+05\n",
              "1   F2     12  1694.0    3.300000     940668.00    1.211530e+06\n",
              "2   F3     12  1510.0    5.000000    1530204.00    1.996377e+06\n",
              "3   F4     12  1320.0    6.300000    2067904.00    2.635651e+06\n",
              "4   EF     72  1151.0    6.000000    2485503.00    2.485526e+06\n",
              "5  AOF      -    14.7    8.560345    3810087.91    3.810088e+06"
            ]
          },
          "execution_count": 156,
          "metadata": {},
          "output_type": "execute_result"
        }
      ],
      "source": [
        "# df_isotest = df_isotest.append(new,ignore_index=True)\n",
        "\n",
        "df_isotest"
      ]
    },
    {
      "cell_type": "code",
      "execution_count": null,
      "metadata": {
        "id": "erpebKLTqJs7",
        "outputId": "e6ad14fd-0ee9-4d3f-8d7e-e7ae0414960d"
      },
      "outputs": [
        {
          "data": {
            "text/plain": [
              "Text(0.5, 1.0, 'Isochronal Test Results : AOF = 8.56 MMscf/D')"
            ]
          },
          "execution_count": 174,
          "metadata": {},
          "output_type": "execute_result"
        },
        {
          "data": {
            "image/png": "[encoded data removed]",
            "text/plain": [
              "<Figure size 1200x825 with 1 Axes>"
            ]
          },
          "metadata": {},
          "output_type": "display_data"
        }
      ],
      "source": [
        "plt.figure(dpi=150);\n",
        "plt.style.use('seaborn')\n",
        "plt.grid()\n",
        "\n",
        "\n",
        "\n",
        "#Isochronal Test Points Model (Used to find slope)\n",
        "plt.scatter(np.log(df_isotest['Q(MMscf/d)'][:-2]),np.log(df_isotest['Pbar2 - Pwf2'][:-2]))\n",
        "plt.plot(np.log(df_isotest['Q(MMscf/d)'][:-2]),np.log(df_isotest['Pbar2 - Pwf2'][:-2]),label='Isochronal Test Points')\n",
        "\n",
        "x = np.log(df_isotest['Q(MMscf/d)'][:-1])\n",
        "y = 1.202*x + 12.31\n",
        "# plt.plot(x,y)\n",
        "\n",
        "\n",
        "xf = np.log(6)\n",
        "yf = np.log(2485503)\n",
        "\n",
        "plt.scatter(xf,yf)\n",
        "\n",
        "\n",
        "plt.plot(np.log(df_isotest['Q(MMscf/d)']),np.log(df_isotest['Stablized : P2']),label='Stabilized Model')\n",
        "\n",
        "\n",
        "plt.axvline(x=np.log(aof_stab), label='AOF (log-Scaled)')\n",
        "plt.axhline(y=np.log(3.810088e+06), label='$\\ delta P_{AOF}^2$(log-Scaled)')\n",
        "\n",
        "\n",
        "plt.xlim(0,2.5)\n",
        "plt.ylim(13.4,15.5)\n",
        "\n",
        "plt.legend()\n",
        "plt.grid()\n",
        "plt.xlabel('Qg(MMscf/d)-Log Scaled')\n",
        "plt.ylabel('$P_{av}^2 - Pw^2 (Psi^2) - Log Scaled$')\n",
        "\n",
        "plt.title('Isochronal Test Results : AOF = 8.56 MMscf/D')\n",
        "\n"
      ]
    },
    {
      "cell_type": "code",
      "execution_count": null,
      "metadata": {
        "id": "-J6kMZfbqJs7"
      },
      "outputs": [],
      "source": []
    },
    {
      "cell_type": "code",
      "execution_count": null,
      "metadata": {
        "id": "V1xT9WKdqJs7"
      },
      "outputs": [],
      "source": []
    },
    {
      "cell_type": "code",
      "execution_count": null,
      "metadata": {
        "id": "NGhXs_W3qJs7"
      },
      "outputs": [],
      "source": []
    },
    {
      "cell_type": "code",
      "execution_count": null,
      "metadata": {
        "id": "aFWH-JSDqJs7"
      },
      "outputs": [],
      "source": []
    },
    {
      "cell_type": "code",
      "execution_count": null,
      "metadata": {
        "id": "w_k7fww-qJs7",
        "outputId": "cac8f3d0-a21d-4e54-9043-29c47d134927"
      },
      "outputs": [
        {
          "data": {
            "text/plain": [
              "8.560344627144966"
            ]
          },
          "execution_count": 172,
          "metadata": {},
          "output_type": "execute_result"
        }
      ],
      "source": [
        "aof_stab"
      ]
    },
    {
      "cell_type": "code",
      "execution_count": null,
      "metadata": {
        "id": "Fvd4v6JLqJs7"
      },
      "outputs": [],
      "source": [
        "#Theoritical Method."
      ]
    },
    {
      "cell_type": "code",
      "execution_count": null,
      "metadata": {
        "id": "WeZXGRGEqJs7"
      },
      "outputs": [],
      "source": [
        "# df_isotest['delP2/Qg'] = df_isotest['Pbar2 - Pwf2']/df_isotest['Q(MMscf/d)']"
      ]
    },
    {
      "cell_type": "code",
      "execution_count": null,
      "metadata": {
        "id": "fojqEQ6aqJs7"
      },
      "outputs": [],
      "source": [
        "# df_isotest"
      ]
    },
    {
      "cell_type": "code",
      "execution_count": null,
      "metadata": {
        "id": "2k3BLpctqJs7"
      },
      "outputs": [],
      "source": [
        "# sns.regplot(df_isotest['Q(MMscf/d)'][:-1],df_isotest['delP2/Qg'][:-1])"
      ]
    },
    {
      "cell_type": "code",
      "execution_count": null,
      "metadata": {
        "id": "AP7AOxU5qJs8"
      },
      "outputs": [],
      "source": [
        "# theo = np.polyfit(df_isotest['Q(MMscf/d)'][:-1],df_isotest['delP2/Qg'][:-1],deg=1)"
      ]
    },
    {
      "cell_type": "code",
      "execution_count": null,
      "metadata": {
        "id": "jnRNPpnCqJs8"
      },
      "outputs": [],
      "source": [
        "# theo"
      ]
    },
    {
      "cell_type": "code",
      "execution_count": null,
      "metadata": {
        "id": "-NriOZKyqJs8"
      },
      "outputs": [],
      "source": [
        "#"
      ]
    },
    {
      "cell_type": "code",
      "execution_count": null,
      "metadata": {
        "id": "uMVLFvMoqJs8"
      },
      "outputs": [],
      "source": []
    }
  ],
  "metadata": {
    "kernelspec": {
      "display_name": "Python 3",
      "language": "python",
      "name": "python3"
    },
    "language_info": {
      "codemirror_mode": {
        "name": "ipython",
        "version": 3
      },
      "file_extension": ".py",
      "mimetype": "text/x-python",
      "name": "python",
      "nbconvert_exporter": "python",
      "pygments_lexer": "ipython3",
      "version": "3.8.3"
    },
    "colab": {
      "provenance": [],
      "include_colab_link": true
    }
  },
  "nbformat": 4,
  "nbformat_minor": 0
}