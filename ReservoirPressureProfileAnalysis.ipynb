{
  "nbformat": 4,
  "nbformat_minor": 0,
  "metadata": {
    "colab": {
      "provenance": [],
      "include_colab_link": true
    },
    "kernelspec": {
      "name": "python3",
      "display_name": "Python 3"
    }
  },
  "cells": [
    {
      "cell_type": "markdown",
      "metadata": {
        "id": "view-in-github",
        "colab_type": "text"
      },
      "source": [
        "<a href=\"https://colab.research.google.com/github/Anmoltnt/Oil-well-parameters-analysis/blob/main/ReservoirPressureProfileAnalysis.ipynb\" target=\"_parent\"><img src=\"https://colab.research.google.com/assets/colab-badge.svg\" alt=\"Open In Colab\"/></a>"
      ]
    },
    {
      "cell_type": "code",
      "metadata": {
        "id": "DT5olCJEJZcH"
      },
      "source": [
        "#How pressure profile changes when you change different parameters in Darcy's LAW\n",
        "#Darcy's law - q = kh(DP)/(141.2uBln(re/rw))\n",
        "#- DP = (141.2quB/kh).ln(re/rw)\n",
        "# P = Pwf + DP(r)"
      ],
      "execution_count": null,
      "outputs": []
    },
    {
      "cell_type": "code",
      "metadata": {
        "id": "V6gjbPPdJxxk",
        "outputId": "9dc7180f-0f37-482e-9a9f-03b9229ef741",
        "colab": {
          "base_uri": "https://localhost:8080/",
          "height": 34
        }
      },
      "source": [
        "import numpy as np\n",
        "import matplotlib.pyplot as plt\n",
        "%matplotlib inline\n",
        "\n",
        "# #TIPS to use the TOOL-\n",
        "# 1. Use only 2 cases to compare, which will give you a clearer picture.\n",
        "# 2. enter the same properties in both cases, except for which you want to see the effect of.\n",
        "# EXAMPLE- I wanted to see the effect of viscocity so i have changed nothing but viscocity.\n"
      ],
      "execution_count": null,
      "outputs": [
        {
          "output_type": "execute_result",
          "data": {
            "text/plain": [
              "array([3, 2, 1])"
            ]
          },
          "metadata": {
            "tags": []
          },
          "execution_count": 25
        }
      ]
    },
    {
      "cell_type": "code",
      "metadata": {
        "id": "W2pi7H90LuU5",
        "outputId": "d745539b-9048-4761-a6fa-3eca9bdb1919",
        "colab": {
          "base_uri": "https://localhost:8080/",
          "height": 800
        }
      },
      "source": [
        "ans = 'yes'\n",
        "p = []\n",
        "while ans.lower() == 'yes':\n",
        "  r = np.linspace(1,3000,num=50)\n",
        "  print(\"\\n Enter the Properties\")\n",
        "  q = int(input(\"\\nFlow rate Q(STB/D)- \"))\n",
        "  u = int(input(\"\\nOil viscocity(cp)- \"))\n",
        "  B = 1.2 #bbl/stb\n",
        "  k = int(input(\"\\nPermeability(mD)- \"))\n",
        "  h = int(input(\"\\nReservoir thickness(ft)- \"))\n",
        "  Pe = 3000 #psi\n",
        "  rw = 0.5 #ft\n",
        "  DP = (141.2*q*u*B/(k*h))*(np.log(3000/r))\n",
        "  P = Pe - DP\n",
        "  p.append(P)\n",
        "  ans = input('\\n Want to try again? (yes/no)-')\n",
        "\n",
        "\n",
        "plt.figure(figsize=(10,6))\n",
        "for i in range(len(p)):\n",
        "\n",
        "  plt.plot(r,p[i])\n",
        "  plt.xlim(1,3000)\n",
        "  plt.ylim(0,5000)\n",
        "  plt.xlabel('distance from the well,r(ft)--->')\n",
        "  plt.ylabel('Pressure P(psi)')\n",
        "  plt.legend(['case1','case2'])\n",
        "\n",
        "\n",
        "\n"
      ],
      "execution_count": null,
      "outputs": [
        {
          "output_type": "stream",
          "text": [
            "\n",
            " Enter the Properties\n",
            "\n",
            "Flow rate Q(STB/D)- 200\n",
            "\n",
            "Oil viscocity(cp)- 10\n",
            "\n",
            "Permeability(mD)- 150\n",
            "\n",
            "Reservoir thickness(ft)- 30\n",
            "\n",
            " Want to try again? (yes/no)-yes\n",
            "\n",
            " Enter the Properties\n",
            "\n",
            "Flow rate Q(STB/D)- 200\n",
            "\n",
            "Oil viscocity(cp)- 100\n",
            "\n",
            "Permeability(mD)- 150\n",
            "\n",
            "Reservoir thickness(ft)- 30\n",
            "\n",
            " Want to try again? (yes/no)-n\n"
          ],
          "name": "stdout"
        },
        {
          "output_type": "display_data",
          "data": {
            "image/png": "[encoded data removed]",
            "text/plain": [
              "<Figure size 720x432 with 1 Axes>"
            ]
          },
          "metadata": {
            "tags": [],
            "needs_background": "light"
          }
        }
      ]
    },
    {
      "cell_type": "code",
      "metadata": {
        "id": "YpF1eDzIOYGV"
      },
      "source": [
        "# You can clearly see how increasing the viscocity of oil increased the pressure drop by a huge margin.\n",
        "#in easy words, thicker the oil, more pressure it requires to move, more pressure it looses on its journey to the well."
      ],
      "execution_count": null,
      "outputs": []
    },
    {
      "cell_type": "code",
      "metadata": {
        "id": "UUUBW__5eH1S"
      },
      "source": [],
      "execution_count": null,
      "outputs": []
    },
    {
      "cell_type": "code",
      "metadata": {
        "id": "jUdO_-u3eLTb"
      },
      "source": [],
      "execution_count": null,
      "outputs": []
    },
    {
      "cell_type": "code",
      "metadata": {
        "id": "Dx4ccNnxeX-p"
      },
      "source": [],
      "execution_count": null,
      "outputs": []
    }
  ]
}