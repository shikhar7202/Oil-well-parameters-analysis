{
  "nbformat": 4,
  "nbformat_minor": 0,
  "metadata": {
    "colab": {
      "provenance": [],
      "include_colab_link": true
    },
    "kernelspec": {
      "name": "python3",
      "display_name": "Python 3"
    }
  },
  "cells": [
    {
      "cell_type": "markdown",
      "metadata": {
        "id": "view-in-github",
        "colab_type": "text"
      },
      "source": [
        "<a href=\"https://colab.research.google.com/github/Anmoltnt/Oil-well-parameters-analysis/blob/main/Porosity_Permeability_Transform_Machine_Learning.ipynb\" target=\"_parent\"><img src=\"https://colab.research.google.com/assets/colab-badge.svg\" alt=\"Open In Colab\"/></a>"
      ]
    },
    {
      "cell_type": "markdown",
      "source": [],
      "metadata": {
        "id": "FfSO-RECo14X"
      }
    },
    {
      "cell_type": "markdown",
      "source": [],
      "metadata": {
        "id": "g7xZj0r4o1r1"
      }
    },
    {
      "cell_type": "markdown",
      "source": [],
      "metadata": {
        "id": "XmwbqydRo1ej"
      }
    },
    {
      "cell_type": "markdown",
      "metadata": {
        "id": "view-in-github"
      },
      "source": [
        "<a href=\"https://colab.research.google.com/github/Divyanshu-ISM/Oil-and-Gas-data-analysis/blob/master/phiKTransform_Machine_Learning.ipynb\" target=\"_parent\"><img src=\"https://colab.research.google.com/assets/colab-badge.svg\" alt=\"Open In Colab\"/></a>"
      ]
    },
    {
      "cell_type": "code",
      "metadata": {
        "id": "jGiuNACw1rlm"
      },
      "source": [
        "import numpy as np\n",
        "import matplotlib.pyplot as plt\n",
        "import seaborn as sns\n",
        "import pandas as pd"
      ],
      "execution_count": null,
      "outputs": []
    },
    {
      "cell_type": "code",
      "metadata": {
        "id": "3vs34z3p1wjA"
      },
      "source": [
        "phi = np.abs(np.random.normal(0.25,0.05,70000))\n",
        "swc = np.abs(np.random.normal(0.1,0.01,70000))\n",
        "\n",
        "k = 8.58102*(phi**(4.4))/(swc**2)"
      ],
      "execution_count": null,
      "outputs": []
    },
    {
      "cell_type": "code",
      "metadata": {
        "id": "RIE-c-Cc2DOg"
      },
      "source": [
        "df = pd.DataFrame({'Porosity':phi , 'Swc':swc, 'Permeability(D)':k})"
      ],
      "execution_count": null,
      "outputs": []
    },
    {
      "cell_type": "code",
      "metadata": {
        "id": "HX8xaQu-C7aS",
        "colab": {
          "base_uri": "https://localhost:8080/",
          "height": 49
        },
        "outputId": "734b623c-1fc4-4b9c-eed5-effb17e7c9c8"
      },
      "source": [
        "# df[(df['Porosity'] < 0.001) | (df['Swc'] <0.001)]"
      ],
      "execution_count": null,
      "outputs": [
        {
          "output_type": "execute_result",
          "data": {
            "text/html": [
              "<div>\n",
              "<style scoped>\n",
              "    .dataframe tbody tr th:only-of-type {\n",
              "        vertical-align: middle;\n",
              "    }\n",
              "\n",
              "    .dataframe tbody tr th {\n",
              "        vertical-align: top;\n",
              "    }\n",
              "\n",
              "    .dataframe thead th {\n",
              "        text-align: right;\n",
              "    }\n",
              "</style>\n",
              "<table border=\"1\" class=\"dataframe\">\n",
              "  <thead>\n",
              "    <tr style=\"text-align: right;\">\n",
              "      <th></th>\n",
              "      <th>Porosity</th>\n",
              "      <th>Swc</th>\n",
              "      <th>Permeability(D)</th>\n",
              "    </tr>\n",
              "  </thead>\n",
              "  <tbody>\n",
              "  </tbody>\n",
              "</table>\n",
              "</div>"
            ],
            "text/plain": [
              "Empty DataFrame\n",
              "Columns: [Porosity, Swc, Permeability(D)]\n",
              "Index: []"
            ]
          },
          "metadata": {
            "tags": []
          },
          "execution_count": 60
        }
      ]
    },
    {
      "cell_type": "code",
      "metadata": {
        "id": "wYu0i2Uk2wTs"
      },
      "source": [
        "#"
      ],
      "execution_count": null,
      "outputs": []
    },
    {
      "cell_type": "code",
      "metadata": {
        "id": "B2bwNIxO22FK"
      },
      "source": [
        "#"
      ],
      "execution_count": null,
      "outputs": []
    },
    {
      "cell_type": "code",
      "metadata": {
        "id": "Swa62mK33nBi"
      },
      "source": [
        "# df[df['Swc']<=0]"
      ],
      "execution_count": null,
      "outputs": []
    },
    {
      "cell_type": "code",
      "metadata": {
        "id": "SP-9qGBW2IUU",
        "colab": {
          "base_uri": "https://localhost:8080/",
          "height": 385
        },
        "outputId": "1d5a7126-96dd-46d9-d159-3c1cd2c81a6e"
      },
      "source": [
        "plt.style.use('default')\n",
        "\n",
        "plt.figure(figsize=(6,4))\n",
        "\n",
        "sns.kdeplot(df['Porosity'],label='Porosity',marker='*')\n",
        "sns.kdeplot(df['Swc'],label='Swc',marker='v')\n",
        "\n",
        "plt.xlim(min(swc), 0.6)\n",
        "\n",
        "plt.grid()\n",
        "\n",
        "plt.legend(loc='best')"
      ],
      "execution_count": null,
      "outputs": [
        {
          "output_type": "execute_result",
          "data": {
            "text/plain": [
              "<matplotlib.legend.Legend at 0x7fa2578aeef0>"
            ]
          },
          "metadata": {
            "tags": []
          },
          "execution_count": 91
        },
        {
          "output_type": "display_data",
          "data": {
            "image/png": "[encoded data removed]",
            "text/plain": [
              "<Figure size 600x400 with 1 Axes>"
            ]
          },
          "metadata": {
            "tags": []
          }
        }
      ]
    },
    {
      "cell_type": "code",
      "metadata": {
        "id": "yejxnGjF2MLK",
        "colab": {
          "base_uri": "https://localhost:8080/",
          "height": 204
        },
        "outputId": "a9ea7f10-3aa5-4a01-d3e4-8f303683230b"
      },
      "source": [
        "df.head()"
      ],
      "execution_count": null,
      "outputs": [
        {
          "output_type": "execute_result",
          "data": {
            "text/html": [
              "<div>\n",
              "<style scoped>\n",
              "    .dataframe tbody tr th:only-of-type {\n",
              "        vertical-align: middle;\n",
              "    }\n",
              "\n",
              "    .dataframe tbody tr th {\n",
              "        vertical-align: top;\n",
              "    }\n",
              "\n",
              "    .dataframe thead th {\n",
              "        text-align: right;\n",
              "    }\n",
              "</style>\n",
              "<table border=\"1\" class=\"dataframe\">\n",
              "  <thead>\n",
              "    <tr style=\"text-align: right;\">\n",
              "      <th></th>\n",
              "      <th>Porosity</th>\n",
              "      <th>Swc</th>\n",
              "      <th>Permeability(D)</th>\n",
              "    </tr>\n",
              "  </thead>\n",
              "  <tbody>\n",
              "    <tr>\n",
              "      <th>0</th>\n",
              "      <td>0.193891</td>\n",
              "      <td>0.245432</td>\n",
              "      <td>0.104456</td>\n",
              "    </tr>\n",
              "    <tr>\n",
              "      <th>1</th>\n",
              "      <td>0.301614</td>\n",
              "      <td>0.113136</td>\n",
              "      <td>3.434996</td>\n",
              "    </tr>\n",
              "    <tr>\n",
              "      <th>2</th>\n",
              "      <td>0.267498</td>\n",
              "      <td>0.177913</td>\n",
              "      <td>0.819086</td>\n",
              "    </tr>\n",
              "    <tr>\n",
              "      <th>3</th>\n",
              "      <td>0.230059</td>\n",
              "      <td>0.061722</td>\n",
              "      <td>3.505502</td>\n",
              "    </tr>\n",
              "    <tr>\n",
              "      <th>4</th>\n",
              "      <td>0.266670</td>\n",
              "      <td>0.211083</td>\n",
              "      <td>0.574006</td>\n",
              "    </tr>\n",
              "  </tbody>\n",
              "</table>\n",
              "</div>"
            ],
            "text/plain": [
              "   Porosity       Swc  Permeability(D)\n",
              "0  0.193891  0.245432         0.104456\n",
              "1  0.301614  0.113136         3.434996\n",
              "2  0.267498  0.177913         0.819086\n",
              "3  0.230059  0.061722         3.505502\n",
              "4  0.266670  0.211083         0.574006"
            ]
          },
          "metadata": {
            "tags": []
          },
          "execution_count": 34
        }
      ]
    },
    {
      "cell_type": "code",
      "metadata": {
        "id": "wnVG5We92THK"
      },
      "source": [
        "from sklearn.model_selection import train_test_split"
      ],
      "execution_count": null,
      "outputs": []
    },
    {
      "cell_type": "code",
      "metadata": {
        "id": "h_FvVgPu35ep"
      },
      "source": [
        "df.columns\n",
        "\n",
        "X = df[['Porosity', 'Swc']]\n",
        "\n",
        "y = df['Permeability(D)']"
      ],
      "execution_count": null,
      "outputs": []
    },
    {
      "cell_type": "markdown",
      "metadata": {
        "id": "W9sDztEKGOKd"
      },
      "source": [
        "###The commented-out steps are for if you apply a Deep Learning Algorithm."
      ]
    },
    {
      "cell_type": "code",
      "metadata": {
        "id": "0iBU92aO2qSd"
      },
      "source": [
        "# X_train, X_test, y_train, y_test = train_test_split(X,y,test_size=0.2,random_state=101)"
      ],
      "execution_count": null,
      "outputs": []
    },
    {
      "cell_type": "code",
      "metadata": {
        "id": "3Vnmu9-j4E-i"
      },
      "source": [
        "\n",
        "# from sklearn.preprocessing import MinMaxScaler"
      ],
      "execution_count": null,
      "outputs": []
    },
    {
      "cell_type": "code",
      "metadata": {
        "id": "h71rDP1R4IKj"
      },
      "source": [
        "# scaler = MinMaxScaler()\n",
        "\n",
        "# X_train= scaler.fit_transform(X_train)\n",
        "\n",
        "\n",
        "# X_test = scaler.transform(X_test)\n",
        "\n"
      ],
      "execution_count": null,
      "outputs": []
    },
    {
      "cell_type": "code",
      "metadata": {
        "id": "rY8oMrCk4T3W",
        "colab": {
          "base_uri": "https://localhost:8080/",
          "height": 34
        },
        "outputId": "40384de1-eea7-4c1b-e664-0df384663124"
      },
      "source": [
        "# X_train.shape"
      ],
      "execution_count": null,
      "outputs": [
        {
          "output_type": "execute_result",
          "data": {
            "text/plain": [
              "(56000, 2)"
            ]
          },
          "metadata": {
            "tags": []
          },
          "execution_count": 40
        }
      ]
    },
    {
      "cell_type": "code",
      "metadata": {
        "id": "WxmLciPO4WYy"
      },
      "source": [
        "# from tensorflow.keras.models import Sequential\n",
        "# from tensorflow.keras.layers import Dense, Activation\n",
        "# from tensorflow.keras.optimizers import Adam"
      ],
      "execution_count": null,
      "outputs": []
    },
    {
      "cell_type": "code",
      "metadata": {
        "id": "66SEMgHz4Zy8"
      },
      "source": [
        "# model = Sequential()\n",
        "\n",
        "# model.add(Dense(2,activation='relu'))\n",
        "# model.add(Dense(10,activation='relu'))\n",
        "# model.add(Dense(10,activation='relu'))\n",
        "# model.add(Dense(1))\n",
        "\n",
        "# model.compile(optimizer='adam',loss='mse')"
      ],
      "execution_count": null,
      "outputs": []
    },
    {
      "cell_type": "code",
      "metadata": {
        "id": "DtZAM8BE4iLs"
      },
      "source": [
        "# model.fit(x=X_train,y=y_train.values,\n",
        "#           validation_data=(X_test,y_test.values),\n",
        "#           batch_size=128,epochs=100)"
      ],
      "execution_count": null,
      "outputs": []
    },
    {
      "cell_type": "code",
      "metadata": {
        "id": "L4TuU75S4lq6"
      },
      "source": [
        "from sklearn.tree import DecisionTreeRegressor"
      ],
      "execution_count": null,
      "outputs": []
    },
    {
      "cell_type": "code",
      "metadata": {
        "id": "hzMZoChJ5M3N"
      },
      "source": [
        "model = DecisionTreeRegressor(random_state=1)"
      ],
      "execution_count": null,
      "outputs": []
    },
    {
      "cell_type": "code",
      "metadata": {
        "id": "I3uI-5cj5QpF",
        "colab": {
          "base_uri": "https://localhost:8080/",
          "height": 119
        },
        "outputId": "06118b83-9ec6-47cc-9a3d-3932fdcb801d"
      },
      "source": [
        "model.fit(X_train,y_train)"
      ],
      "execution_count": null,
      "outputs": [
        {
          "output_type": "execute_result",
          "data": {
            "text/plain": [
              "DecisionTreeRegressor(ccp_alpha=0.0, criterion='mse', max_depth=None,\n",
              "                      max_features=None, max_leaf_nodes=None,\n",
              "                      min_impurity_decrease=0.0, min_impurity_split=None,\n",
              "                      min_samples_leaf=1, min_samples_split=2,\n",
              "                      min_weight_fraction_leaf=0.0, presort='deprecated',\n",
              "                      random_state=1, splitter='best')"
            ]
          },
          "metadata": {
            "tags": []
          },
          "execution_count": 67
        }
      ]
    },
    {
      "cell_type": "code",
      "metadata": {
        "id": "SrJBiq4v5TJS",
        "colab": {
          "base_uri": "https://localhost:8080/",
          "height": 204
        },
        "outputId": "b5f6f257-d097-4870-a4e2-6a524a6fd344"
      },
      "source": [
        "X.head()"
      ],
      "execution_count": null,
      "outputs": [
        {
          "output_type": "execute_result",
          "data": {
            "text/html": [
              "<div>\n",
              "<style scoped>\n",
              "    .dataframe tbody tr th:only-of-type {\n",
              "        vertical-align: middle;\n",
              "    }\n",
              "\n",
              "    .dataframe tbody tr th {\n",
              "        vertical-align: top;\n",
              "    }\n",
              "\n",
              "    .dataframe thead th {\n",
              "        text-align: right;\n",
              "    }\n",
              "</style>\n",
              "<table border=\"1\" class=\"dataframe\">\n",
              "  <thead>\n",
              "    <tr style=\"text-align: right;\">\n",
              "      <th></th>\n",
              "      <th>Porosity</th>\n",
              "      <th>Swc</th>\n",
              "    </tr>\n",
              "  </thead>\n",
              "  <tbody>\n",
              "    <tr>\n",
              "      <th>0</th>\n",
              "      <td>0.272440</td>\n",
              "      <td>0.104683</td>\n",
              "    </tr>\n",
              "    <tr>\n",
              "      <th>1</th>\n",
              "      <td>0.182001</td>\n",
              "      <td>0.107320</td>\n",
              "    </tr>\n",
              "    <tr>\n",
              "      <th>2</th>\n",
              "      <td>0.265756</td>\n",
              "      <td>0.107777</td>\n",
              "    </tr>\n",
              "    <tr>\n",
              "      <th>3</th>\n",
              "      <td>0.316770</td>\n",
              "      <td>0.086847</td>\n",
              "    </tr>\n",
              "    <tr>\n",
              "      <th>4</th>\n",
              "      <td>0.314456</td>\n",
              "      <td>0.089505</td>\n",
              "    </tr>\n",
              "  </tbody>\n",
              "</table>\n",
              "</div>"
            ],
            "text/plain": [
              "   Porosity       Swc\n",
              "0  0.272440  0.104683\n",
              "1  0.182001  0.107320\n",
              "2  0.265756  0.107777\n",
              "3  0.316770  0.086847\n",
              "4  0.314456  0.089505"
            ]
          },
          "metadata": {
            "tags": []
          },
          "execution_count": 68
        }
      ]
    },
    {
      "cell_type": "code",
      "metadata": {
        "id": "TRNoAWayDzLL",
        "colab": {
          "base_uri": "https://localhost:8080/",
          "height": 34
        },
        "outputId": "287f504c-7040-44f9-ed43-a3ed4ec52cb9"
      },
      "source": [
        "print(model.predict(X.head()))"
      ],
      "execution_count": null,
      "outputs": [
        {
          "output_type": "stream",
          "text": [
            "[2.56434333 0.40916949 2.19807738 7.23267175 6.59340329]\n"
          ],
          "name": "stdout"
        }
      ]
    },
    {
      "cell_type": "code",
      "metadata": {
        "id": "H6SKD1HCD5KG"
      },
      "source": [
        "from sklearn.metrics import mean_absolute_error"
      ],
      "execution_count": null,
      "outputs": []
    },
    {
      "cell_type": "code",
      "metadata": {
        "id": "8GyIAk7ED8Br"
      },
      "source": [
        "from sklearn.model_selection import train_test_split"
      ],
      "execution_count": null,
      "outputs": []
    },
    {
      "cell_type": "code",
      "metadata": {
        "id": "ASrWLi9UENcj"
      },
      "source": [
        "X_train, X_test, y_train, y_test = train_test_split(X, y, test_size=0.3, random_state=42)"
      ],
      "execution_count": null,
      "outputs": []
    },
    {
      "cell_type": "code",
      "metadata": {
        "id": "rpMv1eEyEQUq"
      },
      "source": [
        "\n",
        "def get_mae(nodes, X_test,y_test,X_train,y_train):\n",
        "  dt = DecisionTreeRegressor(max_leaf_nodes=nodes)\n",
        "  dt.fit(X_train,y_train)\n",
        "  y_p = dt.predict(X_test)\n",
        "  mae = mean_absolute_error(y_test,y_p)\n",
        "  return mae"
      ],
      "execution_count": null,
      "outputs": []
    },
    {
      "cell_type": "code",
      "metadata": {
        "id": "an1K6zlxEZJf"
      },
      "source": [
        "leafs = [10,20,30,40,50,100,120,150,200,300,400,500,1000]\n",
        "error = []\n",
        "for x in leafs:\n",
        "  er = get_mae(x, X_test,y_test,X_train,y_train)\n",
        "  error.append(er)"
      ],
      "execution_count": null,
      "outputs": []
    },
    {
      "cell_type": "code",
      "metadata": {
        "id": "NLibitqqEbry",
        "colab": {
          "base_uri": "https://localhost:8080/",
          "height": 489
        },
        "outputId": "126f25a7-0f82-4bff-e649-4b0cea3d0c9e"
      },
      "source": [
        "plt.plot(leafs,error,marker='o')\n",
        "plt.grid()\n",
        "plt.ylabel('Error(Fraction)')\n",
        "plt.xlabel('No. of leafs')\n",
        "\n",
        "plt.title('Error Minimization(Elbow Method)')"
      ],
      "execution_count": null,
      "outputs": [
        {
          "output_type": "execute_result",
          "data": {
            "text/plain": [
              "Text(0.5, 1.0, 'Error Minimization(Elbow Method)')"
            ]
          },
          "metadata": {
            "tags": []
          },
          "execution_count": 86
        },
        {
          "output_type": "display_data",
          "data": {
            "image/png": "[encoded data removed]",
            "text/plain": [
              "<Figure size 640x480 with 1 Axes>"
            ]
          },
          "metadata": {
            "tags": []
          }
        }
      ]
    },
    {
      "cell_type": "code",
      "metadata": {
        "id": "6Bn97eSYEfEz",
        "colab": {
          "base_uri": "https://localhost:8080/",
          "height": 204
        },
        "outputId": "6de5f724-53c0-4091-db15-83b824b6b881"
      },
      "source": [
        "X_test.head()"
      ],
      "execution_count": null,
      "outputs": [
        {
          "output_type": "execute_result",
          "data": {
            "text/html": [
              "<div>\n",
              "<style scoped>\n",
              "    .dataframe tbody tr th:only-of-type {\n",
              "        vertical-align: middle;\n",
              "    }\n",
              "\n",
              "    .dataframe tbody tr th {\n",
              "        vertical-align: top;\n",
              "    }\n",
              "\n",
              "    .dataframe thead th {\n",
              "        text-align: right;\n",
              "    }\n",
              "</style>\n",
              "<table border=\"1\" class=\"dataframe\">\n",
              "  <thead>\n",
              "    <tr style=\"text-align: right;\">\n",
              "      <th></th>\n",
              "      <th>Porosity</th>\n",
              "      <th>Swc</th>\n",
              "    </tr>\n",
              "  </thead>\n",
              "  <tbody>\n",
              "    <tr>\n",
              "      <th>46730</th>\n",
              "      <td>0.276352</td>\n",
              "      <td>0.089347</td>\n",
              "    </tr>\n",
              "    <tr>\n",
              "      <th>48393</th>\n",
              "      <td>0.244388</td>\n",
              "      <td>0.099597</td>\n",
              "    </tr>\n",
              "    <tr>\n",
              "      <th>41416</th>\n",
              "      <td>0.137736</td>\n",
              "      <td>0.114371</td>\n",
              "    </tr>\n",
              "    <tr>\n",
              "      <th>34506</th>\n",
              "      <td>0.297663</td>\n",
              "      <td>0.119691</td>\n",
              "    </tr>\n",
              "    <tr>\n",
              "      <th>43725</th>\n",
              "      <td>0.270696</td>\n",
              "      <td>0.088165</td>\n",
              "    </tr>\n",
              "  </tbody>\n",
              "</table>\n",
              "</div>"
            ],
            "text/plain": [
              "       Porosity       Swc\n",
              "46730  0.276352  0.089347\n",
              "48393  0.244388  0.099597\n",
              "41416  0.137736  0.114371\n",
              "34506  0.297663  0.119691\n",
              "43725  0.270696  0.088165"
            ]
          },
          "metadata": {
            "tags": []
          },
          "execution_count": 77
        }
      ]
    },
    {
      "cell_type": "code",
      "metadata": {
        "id": "HqMVGB3GEmCq",
        "colab": {
          "base_uri": "https://localhost:8080/",
          "height": 34
        },
        "outputId": "5fdde695-bf7d-4578-dc4a-e4f40d22f59d"
      },
      "source": [
        "print(model.predict(X_test.head()))"
      ],
      "execution_count": null,
      "outputs": [
        {
          "output_type": "stream",
          "text": [
            "[3.74814537 1.75630554 0.10683635 2.89607962 3.51454559]\n"
          ],
          "name": "stdout"
        }
      ]
    },
    {
      "cell_type": "code",
      "metadata": {
        "id": "x6dv-3xqEsFr",
        "colab": {
          "base_uri": "https://localhost:8080/",
          "height": 119
        },
        "outputId": "22f6e4bc-7eeb-4fbc-9344-45ddb9fbf34e"
      },
      "source": [
        "print(y_test.head())"
      ],
      "execution_count": null,
      "outputs": [
        {
          "output_type": "stream",
          "text": [
            "46730    3.748145\n",
            "48393    1.756306\n",
            "41416    0.106836\n",
            "34506    2.896080\n",
            "43725    3.514546\n",
            "Name: Permeability(D), dtype: float64\n"
          ],
          "name": "stdout"
        }
      ]
    },
    {
      "cell_type": "code",
      "metadata": {
        "id": "k8sBMjzQEwYs"
      },
      "source": [
        "y_p = model.predict(X_test)"
      ],
      "execution_count": null,
      "outputs": []
    },
    {
      "cell_type": "code",
      "metadata": {
        "id": "0bXU_5ErE8_P",
        "colab": {
          "base_uri": "https://localhost:8080/",
          "height": 466
        },
        "outputId": "345c6921-c477-4fd6-d4b0-3c65a26c2bda"
      },
      "source": [
        "plt.grid()\n",
        "plt.scatter(y_p,y_test,marker='.')\n",
        "\n",
        "plt.xlabel('Predicted K values')\n",
        "plt.ylabel('Actual K values')"
      ],
      "execution_count": null,
      "outputs": [
        {
          "output_type": "execute_result",
          "data": {
            "text/plain": [
              "Text(0, 0.5, 'Actual K values')"
            ]
          },
          "metadata": {
            "tags": []
          },
          "execution_count": 84
        },
        {
          "output_type": "display_data",
          "data": {
            "image/png": "[encoded data removed]",
            "text/plain": [
              "<Figure size 640x480 with 1 Axes>"
            ]
          },
          "metadata": {
            "tags": []
          }
        }
      ]
    },
    {
      "cell_type": "code",
      "metadata": {
        "id": "MPWSB3ozFANl",
        "colab": {
          "base_uri": "https://localhost:8080/",
          "height": 142
        },
        "outputId": "21246264-a78c-49ed-ada4-e7c743ce9937"
      },
      "source": [
        "from sklearn import metrics\n",
        "MAE =metrics.mean_absolute_error(y_test,y_p)\n",
        "MSE = metrics.mean_squared_error(y_test,y_p)\n",
        "RMSE = np.sqrt(MSE)\n",
        "\n",
        "evaluation = pd.DataFrame(data =[MAE*100,MSE*100,RMSE*100], index='MAE(%) MSE(%) RMSE(%)'.split(), columns = ['Evaluation Values'])\n",
        "evaluation"
      ],
      "execution_count": null,
      "outputs": [
        {
          "output_type": "execute_result",
          "data": {
            "text/html": [
              "<div>\n",
              "<style scoped>\n",
              "    .dataframe tbody tr th:only-of-type {\n",
              "        vertical-align: middle;\n",
              "    }\n",
              "\n",
              "    .dataframe tbody tr th {\n",
              "        vertical-align: top;\n",
              "    }\n",
              "\n",
              "    .dataframe thead th {\n",
              "        text-align: right;\n",
              "    }\n",
              "</style>\n",
              "<table border=\"1\" class=\"dataframe\">\n",
              "  <thead>\n",
              "    <tr style=\"text-align: right;\">\n",
              "      <th></th>\n",
              "      <th>Evaluation Values</th>\n",
              "    </tr>\n",
              "  </thead>\n",
              "  <tbody>\n",
              "    <tr>\n",
              "      <th>MAE(%)</th>\n",
              "      <td>0.378669</td>\n",
              "    </tr>\n",
              "    <tr>\n",
              "      <th>MSE(%)</th>\n",
              "      <td>0.107336</td>\n",
              "    </tr>\n",
              "    <tr>\n",
              "      <th>RMSE(%)</th>\n",
              "      <td>3.276219</td>\n",
              "    </tr>\n",
              "  </tbody>\n",
              "</table>\n",
              "</div>"
            ],
            "text/plain": [
              "         Evaluation Values\n",
              "MAE(%)            0.378669\n",
              "MSE(%)            0.107336\n",
              "RMSE(%)           3.276219"
            ]
          },
          "metadata": {
            "tags": []
          },
          "execution_count": 93
        }
      ]
    },
    {
      "cell_type": "code",
      "metadata": {
        "id": "bfbYrziSG-py"
      },
      "source": [],
      "execution_count": null,
      "outputs": []
    }
  ]
}